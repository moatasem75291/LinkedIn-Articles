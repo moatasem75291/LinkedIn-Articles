{
 "cells": [
  {
   "cell_type": "markdown",
   "id": "f9294d15",
   "metadata": {},
   "source": [
    "# 3.1 Data Structures and Sequences"
   ]
  },
  {
   "cell_type": "markdown",
   "id": "e17e369e",
   "metadata": {},
   "source": [
    "### Tuple"
   ]
  },
  {
   "cell_type": "markdown",
   "id": "622de993",
   "metadata": {},
   "source": [
    "* Fixed-length immutable sequence"
   ]
  },
  {
   "cell_type": "code",
   "execution_count": 10,
   "id": "52efbd00",
   "metadata": {},
   "outputs": [],
   "source": [
    "tup = 4, 15, 5, \"f\", 5"
   ]
  },
  {
   "cell_type": "code",
   "execution_count": 11,
   "id": "af039d81",
   "metadata": {},
   "outputs": [
    {
     "data": {
      "text/plain": [
       "(4, 15, 5, 'f', 5)"
      ]
     },
     "execution_count": 11,
     "metadata": {},
     "output_type": "execute_result"
    }
   ],
   "source": [
    "tup"
   ]
  },
  {
   "cell_type": "code",
   "execution_count": 15,
   "id": "bddef80b",
   "metadata": {},
   "outputs": [
    {
     "data": {
      "text/plain": [
       "3"
      ]
     },
     "execution_count": 15,
     "metadata": {},
     "output_type": "execute_result"
    }
   ],
   "source": [
    "tup.index(\"f\")"
   ]
  },
  {
   "cell_type": "code",
   "execution_count": 13,
   "id": "ada935b3",
   "metadata": {},
   "outputs": [
    {
     "data": {
      "text/plain": [
       "2"
      ]
     },
     "execution_count": 13,
     "metadata": {},
     "output_type": "execute_result"
    }
   ],
   "source": [
    "tup.count(5)"
   ]
  },
  {
   "cell_type": "code",
   "execution_count": 16,
   "id": "53544069",
   "metadata": {},
   "outputs": [],
   "source": [
    "nested_tuple = (3, 8, 7,\"w\"), (9, 6)"
   ]
  },
  {
   "cell_type": "code",
   "execution_count": 17,
   "id": "15c11e60",
   "metadata": {},
   "outputs": [
    {
     "data": {
      "text/plain": [
       "((3, 8, 7, 'w'), (9, 6))"
      ]
     },
     "execution_count": 17,
     "metadata": {},
     "output_type": "execute_result"
    }
   ],
   "source": [
    "nested_tuple"
   ]
  },
  {
   "cell_type": "markdown",
   "id": "385e2103",
   "metadata": {},
   "source": [
    "* Convert any sequence or iterator to a tuple by invoking `tuple`."
   ]
  },
  {
   "cell_type": "code",
   "execution_count": 19,
   "id": "50f89575",
   "metadata": {},
   "outputs": [],
   "source": [
    "numbers = [i for i in range(9)]"
   ]
  },
  {
   "cell_type": "code",
   "execution_count": 21,
   "id": "dee3210f",
   "metadata": {},
   "outputs": [
    {
     "data": {
      "text/plain": [
       "[0, 1, 2, 3, 4, 5, 6, 7, 8]"
      ]
     },
     "execution_count": 21,
     "metadata": {},
     "output_type": "execute_result"
    }
   ],
   "source": [
    "numbers"
   ]
  },
  {
   "cell_type": "code",
   "execution_count": 27,
   "id": "8e011129",
   "metadata": {},
   "outputs": [],
   "source": [
    "numbers = tuple(numbers)"
   ]
  },
  {
   "cell_type": "code",
   "execution_count": 23,
   "id": "81f64172",
   "metadata": {},
   "outputs": [],
   "source": [
    "tup = tuple(\"Mo3tsm\")"
   ]
  },
  {
   "cell_type": "code",
   "execution_count": 24,
   "id": "9f169a1c",
   "metadata": {},
   "outputs": [
    {
     "data": {
      "text/plain": [
       "'t'"
      ]
     },
     "execution_count": 24,
     "metadata": {},
     "output_type": "execute_result"
    }
   ],
   "source": [
    "tup[3]"
   ]
  },
  {
   "cell_type": "code",
   "execution_count": 25,
   "id": "ad3aeef8",
   "metadata": {},
   "outputs": [
    {
     "data": {
      "text/plain": [
       "('M', 'o', '3', 't', 's', 'm')"
      ]
     },
     "execution_count": 25,
     "metadata": {},
     "output_type": "execute_result"
    }
   ],
   "source": [
    "tup"
   ]
  },
  {
   "cell_type": "markdown",
   "id": "a9c13cce",
   "metadata": {},
   "source": [
    "* Concatenate them using `+` operators"
   ]
  },
  {
   "cell_type": "code",
   "execution_count": 28,
   "id": "a4480532",
   "metadata": {},
   "outputs": [
    {
     "data": {
      "text/plain": [
       "(0, 1, 2, 3, 4, 5, 6, 7, 8, 'M', 'o', '3', 't', 's', 'm')"
      ]
     },
     "execution_count": 28,
     "metadata": {},
     "output_type": "execute_result"
    }
   ],
   "source": [
    "numbers + tup"
   ]
  },
  {
   "cell_type": "markdown",
   "id": "03657a7a",
   "metadata": {},
   "source": [
    "###### Unpacking tuples"
   ]
  },
  {
   "cell_type": "code",
   "execution_count": 29,
   "id": "5458cf3f",
   "metadata": {},
   "outputs": [],
   "source": [
    "sequence = [(1, 2, 3), (4, 5, 6), (7, 8, 9)]"
   ]
  },
  {
   "cell_type": "code",
   "execution_count": 30,
   "id": "bc32aebc",
   "metadata": {},
   "outputs": [
    {
     "name": "stdout",
     "output_type": "stream",
     "text": [
      "a=1, b=2, c=3\n",
      "a=4, b=5, c=6\n",
      "a=7, b=8, c=9\n"
     ]
    }
   ],
   "source": [
    "for a, b, c in sequence:\n",
    "    print(f\"a={a}, b={b}, c={c}\")"
   ]
  },
  {
   "cell_type": "markdown",
   "id": "974f14b2",
   "metadata": {},
   "source": [
    "###### Plucking tuples"
   ]
  },
  {
   "cell_type": "code",
   "execution_count": 49,
   "id": "17503b24",
   "metadata": {},
   "outputs": [],
   "source": [
    "tuples = (1, 2, 3, 4, 5, 6)"
   ]
  },
  {
   "cell_type": "code",
   "execution_count": 50,
   "id": "894aa19a",
   "metadata": {},
   "outputs": [],
   "source": [
    "a, b, c, *res = tuples"
   ]
  },
  {
   "cell_type": "code",
   "execution_count": 51,
   "id": "24a496e1",
   "metadata": {},
   "outputs": [
    {
     "data": {
      "text/plain": [
       "[4, 5, 6]"
      ]
     },
     "execution_count": 51,
     "metadata": {},
     "output_type": "execute_result"
    }
   ],
   "source": [
    "res"
   ]
  },
  {
   "cell_type": "markdown",
   "id": "29215e80",
   "metadata": {},
   "source": [
    "a, b, c, *_ = tuples"
   ]
  }
 ],
 "metadata": {
  "kernelspec": {
   "display_name": "Python 3 (ipykernel)",
   "language": "python",
   "name": "python3"
  },
  "language_info": {
   "codemirror_mode": {
    "name": "ipython",
    "version": 3
   },
   "file_extension": ".py",
   "mimetype": "text/x-python",
   "name": "python",
   "nbconvert_exporter": "python",
   "pygments_lexer": "ipython3",
   "version": "3.8.8"
  }
 },
 "nbformat": 4,
 "nbformat_minor": 5
}
