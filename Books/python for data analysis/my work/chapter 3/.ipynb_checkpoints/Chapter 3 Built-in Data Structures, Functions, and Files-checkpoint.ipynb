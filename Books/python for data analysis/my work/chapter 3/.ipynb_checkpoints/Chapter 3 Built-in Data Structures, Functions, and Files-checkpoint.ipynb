{
 "cells": [
  {
   "cell_type": "markdown",
   "id": "2701d560",
   "metadata": {},
   "source": [
    "# 3.1 Data Structures and Sequences"
   ]
  },
  {
   "cell_type": "markdown",
   "id": "3385ab7e",
   "metadata": {},
   "source": [
    "### Tuple"
   ]
  },
  {
   "cell_type": "markdown",
   "id": "7741542f",
   "metadata": {},
   "source": [
    "* Fixed-length immutable sequence"
   ]
  },
  {
   "cell_type": "code",
   "execution_count": 10,
   "id": "e64948c1",
   "metadata": {},
   "outputs": [],
   "source": [
    "tup = 4, 15, 5, \"f\", 5"
   ]
  },
  {
   "cell_type": "code",
   "execution_count": 11,
   "id": "8b4d89ee",
   "metadata": {},
   "outputs": [
    {
     "data": {
      "text/plain": [
       "(4, 15, 5, 'f', 5)"
      ]
     },
     "execution_count": 11,
     "metadata": {},
     "output_type": "execute_result"
    }
   ],
   "source": [
    "tup"
   ]
  },
  {
   "cell_type": "code",
   "execution_count": 15,
   "id": "7575f21d",
   "metadata": {},
   "outputs": [
    {
     "data": {
      "text/plain": [
       "3"
      ]
     },
     "execution_count": 15,
     "metadata": {},
     "output_type": "execute_result"
    }
   ],
   "source": [
    "tup.index(\"f\")"
   ]
  },
  {
   "cell_type": "code",
   "execution_count": 13,
   "id": "c4cb41f3",
   "metadata": {},
   "outputs": [
    {
     "data": {
      "text/plain": [
       "2"
      ]
     },
     "execution_count": 13,
     "metadata": {},
     "output_type": "execute_result"
    }
   ],
   "source": [
    "tup.count(5)"
   ]
  },
  {
   "cell_type": "code",
   "execution_count": 16,
   "id": "be77e47f",
   "metadata": {},
   "outputs": [],
   "source": [
    "nested_tuple = (3, 8, 7,\"w\"), (9, 6)"
   ]
  },
  {
   "cell_type": "code",
   "execution_count": 17,
   "id": "d14785a8",
   "metadata": {},
   "outputs": [
    {
     "data": {
      "text/plain": [
       "((3, 8, 7, 'w'), (9, 6))"
      ]
     },
     "execution_count": 17,
     "metadata": {},
     "output_type": "execute_result"
    }
   ],
   "source": [
    "nested_tuple"
   ]
  },
  {
   "cell_type": "markdown",
   "id": "6ddb79eb",
   "metadata": {},
   "source": [
    "* Convert any sequence or iterator to a tuple by invoking `tuple`."
   ]
  },
  {
   "cell_type": "code",
   "execution_count": 19,
   "id": "49825adf",
   "metadata": {},
   "outputs": [],
   "source": [
    "numbers = [i for i in range(9)]"
   ]
  },
  {
   "cell_type": "code",
   "execution_count": 21,
   "id": "5f282209",
   "metadata": {},
   "outputs": [
    {
     "data": {
      "text/plain": [
       "[0, 1, 2, 3, 4, 5, 6, 7, 8]"
      ]
     },
     "execution_count": 21,
     "metadata": {},
     "output_type": "execute_result"
    }
   ],
   "source": [
    "numbers"
   ]
  },
  {
   "cell_type": "code",
   "execution_count": 27,
   "id": "8bab2576",
   "metadata": {},
   "outputs": [],
   "source": [
    "numbers = tuple(numbers)"
   ]
  },
  {
   "cell_type": "code",
   "execution_count": 23,
   "id": "42b103cd",
   "metadata": {},
   "outputs": [],
   "source": [
    "tup = tuple(\"Mo3tsm\")"
   ]
  },
  {
   "cell_type": "code",
   "execution_count": 24,
   "id": "12ea3e79",
   "metadata": {},
   "outputs": [
    {
     "data": {
      "text/plain": [
       "'t'"
      ]
     },
     "execution_count": 24,
     "metadata": {},
     "output_type": "execute_result"
    }
   ],
   "source": [
    "tup[3]"
   ]
  },
  {
   "cell_type": "code",
   "execution_count": 25,
   "id": "58fc7ec7",
   "metadata": {},
   "outputs": [
    {
     "data": {
      "text/plain": [
       "('M', 'o', '3', 't', 's', 'm')"
      ]
     },
     "execution_count": 25,
     "metadata": {},
     "output_type": "execute_result"
    }
   ],
   "source": [
    "tup"
   ]
  },
  {
   "cell_type": "markdown",
   "id": "1823a4f0",
   "metadata": {},
   "source": [
    "* Concatenate them using `+` operators"
   ]
  },
  {
   "cell_type": "code",
   "execution_count": 28,
   "id": "f50f985c",
   "metadata": {},
   "outputs": [
    {
     "data": {
      "text/plain": [
       "(0, 1, 2, 3, 4, 5, 6, 7, 8, 'M', 'o', '3', 't', 's', 'm')"
      ]
     },
     "execution_count": 28,
     "metadata": {},
     "output_type": "execute_result"
    }
   ],
   "source": [
    "numbers + tup"
   ]
  },
  {
   "cell_type": "markdown",
   "id": "48bd3011",
   "metadata": {},
   "source": [
    "###### Unpacking tuples"
   ]
  },
  {
   "cell_type": "code",
   "execution_count": 29,
   "id": "ccd2c1ca",
   "metadata": {},
   "outputs": [],
   "source": [
    "sequence = [(1, 2, 3), (4, 5, 6), (7, 8, 9)]"
   ]
  },
  {
   "cell_type": "code",
   "execution_count": 30,
   "id": "1eb68364",
   "metadata": {},
   "outputs": [
    {
     "name": "stdout",
     "output_type": "stream",
     "text": [
      "a=1, b=2, c=3\n",
      "a=4, b=5, c=6\n",
      "a=7, b=8, c=9\n"
     ]
    }
   ],
   "source": [
    "for a, b, c in sequence:\n",
    "    print(f\"a={a}, b={b}, c={c}\")"
   ]
  },
  {
   "cell_type": "markdown",
   "id": "3d1a3a30",
   "metadata": {},
   "source": [
    "###### Plucking tuples"
   ]
  },
  {
   "cell_type": "code",
   "execution_count": 49,
   "id": "759cc7ef",
   "metadata": {},
   "outputs": [],
   "source": [
    "tuples = (1, 2, 3, 4, 5, 6)"
   ]
  },
  {
   "cell_type": "code",
   "execution_count": 50,
   "id": "17028384",
   "metadata": {},
   "outputs": [],
   "source": [
    "a, b, c, *res = tuples"
   ]
  },
  {
   "cell_type": "code",
   "execution_count": 51,
   "id": "d0466aaf",
   "metadata": {},
   "outputs": [
    {
     "data": {
      "text/plain": [
       "[4, 5, 6]"
      ]
     },
     "execution_count": 51,
     "metadata": {},
     "output_type": "execute_result"
    }
   ],
   "source": [
    "res"
   ]
  },
  {
   "cell_type": "code",
   "execution_count": 52,
   "id": "fc754b97",
   "metadata": {},
   "outputs": [],
   "source": [
    "a, b, c, *_ = tuples"
   ]
  },
  {
   "cell_type": "markdown",
   "id": "50aab4f7",
   "metadata": {},
   "source": [
    "# List"
   ]
  },
  {
   "cell_type": "markdown",
   "id": "e99a8601",
   "metadata": {},
   "source": [
    "* Lists are variable-length and thier contents can be modified in-place."
   ]
  },
  {
   "cell_type": "code",
   "execution_count": 57,
   "id": "c64bbda5",
   "metadata": {},
   "outputs": [],
   "source": [
    "\n",
    "a_list = [2, 44, \"f\", None]"
   ]
  },
  {
   "cell_type": "code",
   "execution_count": 58,
   "id": "6c638d1d",
   "metadata": {},
   "outputs": [],
   "source": [
    "tup = 'foo', 'boo', 'baz'"
   ]
  },
  {
   "cell_type": "code",
   "execution_count": 61,
   "id": "5462b796",
   "metadata": {},
   "outputs": [],
   "source": [
    "b_list = list(tup) "
   ]
  },
  {
   "cell_type": "code",
   "execution_count": 62,
   "id": "f27a69b2",
   "metadata": {},
   "outputs": [
    {
     "data": {
      "text/plain": [
       "['foo', 'boo', 'baz']"
      ]
     },
     "execution_count": 62,
     "metadata": {},
     "output_type": "execute_result"
    }
   ],
   "source": [
    "b_list"
   ]
  },
  {
   "cell_type": "code",
   "execution_count": 63,
   "id": "5a29c3bb",
   "metadata": {},
   "outputs": [],
   "source": [
    "gen = range(10)"
   ]
  },
  {
   "cell_type": "code",
   "execution_count": 64,
   "id": "0d918376",
   "metadata": {},
   "outputs": [
    {
     "data": {
      "text/plain": [
       "range(0, 10)"
      ]
     },
     "execution_count": 64,
     "metadata": {},
     "output_type": "execute_result"
    }
   ],
   "source": [
    "gen"
   ]
  },
  {
   "cell_type": "code",
   "execution_count": 65,
   "id": "4370de4c",
   "metadata": {},
   "outputs": [
    {
     "data": {
      "text/plain": [
       "[0, 1, 2, 3, 4, 5, 6, 7, 8, 9]"
      ]
     },
     "execution_count": 65,
     "metadata": {},
     "output_type": "execute_result"
    }
   ],
   "source": [
    "list(gen)"
   ]
  },
  {
   "cell_type": "markdown",
   "id": "11b62369",
   "metadata": {},
   "source": [
    "###### adding and removing elements"
   ]
  },
  {
   "cell_type": "code",
   "execution_count": 66,
   "id": "0cfa4b7a",
   "metadata": {},
   "outputs": [],
   "source": [
    "b_list.append(\"bar\")"
   ]
  },
  {
   "cell_type": "code",
   "execution_count": 67,
   "id": "4e04700f",
   "metadata": {},
   "outputs": [
    {
     "data": {
      "text/plain": [
       "['foo', 'boo', 'baz', 'bar']"
      ]
     },
     "execution_count": 67,
     "metadata": {},
     "output_type": "execute_result"
    }
   ],
   "source": [
    "b_list"
   ]
  },
  {
   "cell_type": "code",
   "execution_count": 68,
   "id": "d91fcc66",
   "metadata": {},
   "outputs": [],
   "source": [
    "b_list.insert(1, \"mew\")"
   ]
  },
  {
   "cell_type": "code",
   "execution_count": 69,
   "id": "a425ebff",
   "metadata": {},
   "outputs": [
    {
     "data": {
      "text/plain": [
       "['foo', 'mew', 'boo', 'baz', 'bar']"
      ]
     },
     "execution_count": 69,
     "metadata": {},
     "output_type": "execute_result"
    }
   ],
   "source": [
    "b_list"
   ]
  },
  {
   "cell_type": "code",
   "execution_count": 72,
   "id": "ccbde496",
   "metadata": {},
   "outputs": [
    {
     "data": {
      "text/plain": [
       "'bar'"
      ]
     },
     "execution_count": 72,
     "metadata": {},
     "output_type": "execute_result"
    }
   ],
   "source": [
    "b_list.pop()"
   ]
  },
  {
   "cell_type": "code",
   "execution_count": 74,
   "id": "bd0b2f00",
   "metadata": {},
   "outputs": [
    {
     "data": {
      "text/plain": [
       "['foo', 'mew', 'boo', 'baz']"
      ]
     },
     "execution_count": 74,
     "metadata": {},
     "output_type": "execute_result"
    }
   ],
   "source": [
    "b_list"
   ]
  },
  {
   "cell_type": "code",
   "execution_count": 75,
   "id": "c8b54a8e",
   "metadata": {},
   "outputs": [],
   "source": [
    "seq1, seq2 = ['foo', 'boo', 'mew'], [1, 3, 7]"
   ]
  },
  {
   "cell_type": "code",
   "execution_count": 77,
   "id": "e558bc75",
   "metadata": {},
   "outputs": [
    {
     "data": {
      "text/plain": [
       "[('foo', 1), ('boo', 3), ('mew', 7)]"
      ]
     },
     "execution_count": 77,
     "metadata": {},
     "output_type": "execute_result"
    }
   ],
   "source": [
    "list(zip(seq1, seq2))"
   ]
  },
  {
   "cell_type": "markdown",
   "id": "e018fcfd",
   "metadata": {},
   "source": [
    "### Dict"
   ]
  },
  {
   "cell_type": "code",
   "execution_count": 79,
   "id": "175ad681",
   "metadata": {},
   "outputs": [],
   "source": [
    "keys, values = ['a', 'b', 5, 7], [\"momo\", \"mew\", 55, 9]"
   ]
  },
  {
   "cell_type": "code",
   "execution_count": 80,
   "id": "8d274aa5",
   "metadata": {},
   "outputs": [],
   "source": [
    "mapping = {}\n",
    "for key, value in zip(keys, values):\n",
    "    mapping[key] = value\n"
   ]
  },
  {
   "cell_type": "code",
   "execution_count": 81,
   "id": "cf5b54ce",
   "metadata": {},
   "outputs": [
    {
     "data": {
      "text/plain": [
       "{'a': 'momo', 'b': 'mew', 5: 55, 7: 9}"
      ]
     },
     "execution_count": 81,
     "metadata": {},
     "output_type": "execute_result"
    }
   ],
   "source": [
    "mapping"
   ]
  },
  {
   "cell_type": "code",
   "execution_count": 100,
   "id": "fe813c55",
   "metadata": {},
   "outputs": [],
   "source": [
    "words = ['apple', 'atom', 'bat', 'buzz', 'car']\n",
    "by_letter = {}"
   ]
  },
  {
   "cell_type": "code",
   "execution_count": 101,
   "id": "4c1e5393",
   "metadata": {},
   "outputs": [],
   "source": [
    "for word in words:\n",
    "    letter = word[0]\n",
    "    if letter not in by_letter:\n",
    "        by_letter[letter] = [word]\n",
    "    else:\n",
    "        by_letter[letter].append(word)"
   ]
  },
  {
   "cell_type": "code",
   "execution_count": 102,
   "id": "b3655f5a",
   "metadata": {},
   "outputs": [
    {
     "data": {
      "text/plain": [
       "{'a': ['apple', 'atom'], 'b': ['bat', 'buzz'], 'c': ['car']}"
      ]
     },
     "execution_count": 102,
     "metadata": {},
     "output_type": "execute_result"
    }
   ],
   "source": [
    "by_letter"
   ]
  },
  {
   "cell_type": "markdown",
   "id": "84676f72",
   "metadata": {},
   "source": [
    "### List, Set, Dict Comprehensions"
   ]
  },
  {
   "cell_type": "code",
   "execution_count": 105,
   "id": "cef0b6a1",
   "metadata": {},
   "outputs": [],
   "source": [
    "strings = ['a', 'as', 'bat', 'car', 'dove', 'python']"
   ]
  },
  {
   "cell_type": "code",
   "execution_count": 108,
   "id": "9ac7b1ea",
   "metadata": {},
   "outputs": [
    {
     "data": {
      "text/plain": [
       "['BAT', 'CAR', 'DOVE', 'PYTHON']"
      ]
     },
     "execution_count": 108,
     "metadata": {},
     "output_type": "execute_result"
    }
   ],
   "source": [
    "[i.upper() for i in strings if len(i) > 2]"
   ]
  },
  {
   "cell_type": "code",
   "execution_count": 109,
   "id": "39f59bfb",
   "metadata": {},
   "outputs": [],
   "source": [
    "all_names = [\n",
    "    ['marina', 'mark', 'stefanie'],\n",
    "    ['abraham', 'monzer', 'michael']\n",
    "]"
   ]
  },
  {
   "cell_type": "code",
   "execution_count": 119,
   "id": "a6dfd275",
   "metadata": {},
   "outputs": [
    {
     "data": {
      "text/plain": [
       "['marina', 'abraham']"
      ]
     },
     "execution_count": 119,
     "metadata": {},
     "output_type": "execute_result"
    }
   ],
   "source": [
    "[name for row in all_names for name in row if name.count('a') >= 2]"
   ]
  },
  {
   "cell_type": "code",
   "execution_count": null,
   "id": "fb81783a",
   "metadata": {},
   "outputs": [],
   "source": []
  }
 ],
 "metadata": {
  "kernelspec": {
   "display_name": "Python 3 (ipykernel)",
   "language": "python",
   "name": "python3"
  },
  "language_info": {
   "codemirror_mode": {
    "name": "ipython",
    "version": 3
   },
   "file_extension": ".py",
   "mimetype": "text/x-python",
   "name": "python",
   "nbconvert_exporter": "python",
   "pygments_lexer": "ipython3",
   "version": "3.8.8"
  }
 },
 "nbformat": 4,
 "nbformat_minor": 5
}
