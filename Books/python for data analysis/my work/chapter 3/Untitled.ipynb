{
 "cells": [
  {
   "cell_type": "markdown",
   "id": "e6ac41ea",
   "metadata": {},
   "source": [
    "# 3.1 Data Structures and Sequences"
   ]
  },
  {
   "cell_type": "markdown",
   "id": "4d864d85",
   "metadata": {},
   "source": [
    "### Tuple"
   ]
  },
  {
   "cell_type": "markdown",
   "id": "d48c4421",
   "metadata": {},
   "source": [
    "* Fixed-length immutable sequence"
   ]
  },
  {
   "cell_type": "code",
   "execution_count": 10,
   "id": "87ef6f4a",
   "metadata": {},
   "outputs": [],
   "source": [
    "tup = 4, 15, 5, \"f\", 5"
   ]
  },
  {
   "cell_type": "code",
   "execution_count": 11,
   "id": "a80826a6",
   "metadata": {},
   "outputs": [
    {
     "data": {
      "text/plain": [
       "(4, 15, 5, 'f', 5)"
      ]
     },
     "execution_count": 11,
     "metadata": {},
     "output_type": "execute_result"
    }
   ],
   "source": [
    "tup"
   ]
  },
  {
   "cell_type": "code",
   "execution_count": 15,
   "id": "82c10403",
   "metadata": {},
   "outputs": [
    {
     "data": {
      "text/plain": [
       "3"
      ]
     },
     "execution_count": 15,
     "metadata": {},
     "output_type": "execute_result"
    }
   ],
   "source": [
    "tup.index(\"f\")"
   ]
  },
  {
   "cell_type": "code",
   "execution_count": 13,
   "id": "f8398a3c",
   "metadata": {},
   "outputs": [
    {
     "data": {
      "text/plain": [
       "2"
      ]
     },
     "execution_count": 13,
     "metadata": {},
     "output_type": "execute_result"
    }
   ],
   "source": [
    "tup.count(5)"
   ]
  },
  {
   "cell_type": "code",
   "execution_count": 16,
   "id": "ca8c4b46",
   "metadata": {},
   "outputs": [],
   "source": [
    "nested_tuple = (3, 8, 7,\"w\"), (9, 6)"
   ]
  },
  {
   "cell_type": "code",
   "execution_count": 17,
   "id": "13993902",
   "metadata": {},
   "outputs": [
    {
     "data": {
      "text/plain": [
       "((3, 8, 7, 'w'), (9, 6))"
      ]
     },
     "execution_count": 17,
     "metadata": {},
     "output_type": "execute_result"
    }
   ],
   "source": [
    "nested_tuple"
   ]
  },
  {
   "cell_type": "markdown",
   "id": "eabb6b0e",
   "metadata": {},
   "source": [
    "* Convert any sequence or iterator to a tuple by invoking `tuple`."
   ]
  },
  {
   "cell_type": "code",
   "execution_count": 19,
   "id": "6b247747",
   "metadata": {},
   "outputs": [],
   "source": [
    "numbers = [i for i in range(9)]"
   ]
  },
  {
   "cell_type": "code",
   "execution_count": 21,
   "id": "76b360e2",
   "metadata": {},
   "outputs": [
    {
     "data": {
      "text/plain": [
       "[0, 1, 2, 3, 4, 5, 6, 7, 8]"
      ]
     },
     "execution_count": 21,
     "metadata": {},
     "output_type": "execute_result"
    }
   ],
   "source": [
    "numbers"
   ]
  },
  {
   "cell_type": "code",
   "execution_count": 27,
   "id": "75aa775a",
   "metadata": {},
   "outputs": [],
   "source": [
    "numbers = tuple(numbers)"
   ]
  },
  {
   "cell_type": "code",
   "execution_count": 23,
   "id": "4424cf54",
   "metadata": {},
   "outputs": [],
   "source": [
    "tup = tuple(\"Mo3tsm\")"
   ]
  },
  {
   "cell_type": "code",
   "execution_count": 24,
   "id": "93d9f6c5",
   "metadata": {},
   "outputs": [
    {
     "data": {
      "text/plain": [
       "'t'"
      ]
     },
     "execution_count": 24,
     "metadata": {},
     "output_type": "execute_result"
    }
   ],
   "source": [
    "tup[3]"
   ]
  },
  {
   "cell_type": "code",
   "execution_count": 25,
   "id": "d69207b0",
   "metadata": {},
   "outputs": [
    {
     "data": {
      "text/plain": [
       "('M', 'o', '3', 't', 's', 'm')"
      ]
     },
     "execution_count": 25,
     "metadata": {},
     "output_type": "execute_result"
    }
   ],
   "source": [
    "tup"
   ]
  },
  {
   "cell_type": "markdown",
   "id": "28823731",
   "metadata": {},
   "source": [
    "* Concatenate them using `+` operators"
   ]
  },
  {
   "cell_type": "code",
   "execution_count": 28,
   "id": "22fa304c",
   "metadata": {},
   "outputs": [
    {
     "data": {
      "text/plain": [
       "(0, 1, 2, 3, 4, 5, 6, 7, 8, 'M', 'o', '3', 't', 's', 'm')"
      ]
     },
     "execution_count": 28,
     "metadata": {},
     "output_type": "execute_result"
    }
   ],
   "source": [
    "numbers + tup"
   ]
  },
  {
   "cell_type": "markdown",
   "id": "a0af2662",
   "metadata": {},
   "source": [
    "###### Unpacking tuples"
   ]
  },
  {
   "cell_type": "code",
   "execution_count": 29,
   "id": "c5f6ba03",
   "metadata": {},
   "outputs": [],
   "source": [
    "sequence = [(1, 2, 3), (4, 5, 6), (7, 8, 9)]"
   ]
  },
  {
   "cell_type": "code",
   "execution_count": 30,
   "id": "1436968e",
   "metadata": {},
   "outputs": [
    {
     "name": "stdout",
     "output_type": "stream",
     "text": [
      "a=1, b=2, c=3\n",
      "a=4, b=5, c=6\n",
      "a=7, b=8, c=9\n"
     ]
    }
   ],
   "source": [
    "for a, b, c in sequence:\n",
    "    print(f\"a={a}, b={b}, c={c}\")"
   ]
  },
  {
   "cell_type": "markdown",
   "id": "e2af095f",
   "metadata": {},
   "source": [
    "###### Plucking tuples"
   ]
  },
  {
   "cell_type": "code",
   "execution_count": 49,
   "id": "9f481a18",
   "metadata": {},
   "outputs": [],
   "source": [
    "tuples = (1, 2, 3, 4, 5, 6)"
   ]
  },
  {
   "cell_type": "code",
   "execution_count": 50,
   "id": "94cc6eb5",
   "metadata": {},
   "outputs": [],
   "source": [
    "a, b, c, *res = tuples"
   ]
  },
  {
   "cell_type": "code",
   "execution_count": 51,
   "id": "2f21e78d",
   "metadata": {},
   "outputs": [
    {
     "data": {
      "text/plain": [
       "[4, 5, 6]"
      ]
     },
     "execution_count": 51,
     "metadata": {},
     "output_type": "execute_result"
    }
   ],
   "source": [
    "res"
   ]
  },
  {
   "cell_type": "code",
   "execution_count": 52,
   "id": "93f6baaa",
   "metadata": {},
   "outputs": [],
   "source": [
    "a, b, c, *_ = tuples"
   ]
  },
  {
   "cell_type": "markdown",
   "id": "43a3c9cd",
   "metadata": {},
   "source": [
    "# List"
   ]
  },
  {
   "cell_type": "markdown",
   "id": "ed7900a5",
   "metadata": {},
   "source": [
    "* Lists are variable-length and thier contents can be modified in-place."
   ]
  },
  {
   "cell_type": "code",
   "execution_count": 57,
   "id": "36901d7f",
   "metadata": {},
   "outputs": [],
   "source": [
    "\n",
    "a_list = [2, 44, \"f\", None]"
   ]
  },
  {
   "cell_type": "code",
   "execution_count": 58,
   "id": "4a387714",
   "metadata": {},
   "outputs": [],
   "source": [
    "tup = 'foo', 'boo', 'baz'"
   ]
  },
  {
   "cell_type": "code",
   "execution_count": 61,
   "id": "0e7bc93e",
   "metadata": {},
   "outputs": [],
   "source": [
    "b_list = list(tup) "
   ]
  },
  {
   "cell_type": "code",
   "execution_count": 62,
   "id": "515294bd",
   "metadata": {},
   "outputs": [
    {
     "data": {
      "text/plain": [
       "['foo', 'boo', 'baz']"
      ]
     },
     "execution_count": 62,
     "metadata": {},
     "output_type": "execute_result"
    }
   ],
   "source": [
    "b_list"
   ]
  },
  {
   "cell_type": "code",
   "execution_count": 63,
   "id": "3d1cac32",
   "metadata": {},
   "outputs": [],
   "source": [
    "gen = range(10)"
   ]
  },
  {
   "cell_type": "code",
   "execution_count": 64,
   "id": "54f75d19",
   "metadata": {},
   "outputs": [
    {
     "data": {
      "text/plain": [
       "range(0, 10)"
      ]
     },
     "execution_count": 64,
     "metadata": {},
     "output_type": "execute_result"
    }
   ],
   "source": [
    "gen"
   ]
  },
  {
   "cell_type": "code",
   "execution_count": 65,
   "id": "8ce27898",
   "metadata": {},
   "outputs": [
    {
     "data": {
      "text/plain": [
       "[0, 1, 2, 3, 4, 5, 6, 7, 8, 9]"
      ]
     },
     "execution_count": 65,
     "metadata": {},
     "output_type": "execute_result"
    }
   ],
   "source": [
    "list(gen)"
   ]
  },
  {
   "cell_type": "markdown",
   "id": "628614ed",
   "metadata": {},
   "source": [
    "###### adding and removing elements"
   ]
  },
  {
   "cell_type": "code",
   "execution_count": 66,
   "id": "5b46547d",
   "metadata": {},
   "outputs": [],
   "source": [
    "b_list.append(\"bar\")"
   ]
  },
  {
   "cell_type": "code",
   "execution_count": 67,
   "id": "ab740811",
   "metadata": {},
   "outputs": [
    {
     "data": {
      "text/plain": [
       "['foo', 'boo', 'baz', 'bar']"
      ]
     },
     "execution_count": 67,
     "metadata": {},
     "output_type": "execute_result"
    }
   ],
   "source": [
    "b_list"
   ]
  },
  {
   "cell_type": "code",
   "execution_count": 68,
   "id": "e057e950",
   "metadata": {},
   "outputs": [],
   "source": [
    "b_list.insert(1, \"mew\")"
   ]
  },
  {
   "cell_type": "code",
   "execution_count": 69,
   "id": "2489ade5",
   "metadata": {},
   "outputs": [
    {
     "data": {
      "text/plain": [
       "['foo', 'mew', 'boo', 'baz', 'bar']"
      ]
     },
     "execution_count": 69,
     "metadata": {},
     "output_type": "execute_result"
    }
   ],
   "source": [
    "b_list"
   ]
  },
  {
   "cell_type": "code",
   "execution_count": 72,
   "id": "4187f3ef",
   "metadata": {},
   "outputs": [
    {
     "data": {
      "text/plain": [
       "'bar'"
      ]
     },
     "execution_count": 72,
     "metadata": {},
     "output_type": "execute_result"
    }
   ],
   "source": [
    "b_list.pop()"
   ]
  },
  {
   "cell_type": "code",
   "execution_count": 74,
   "id": "0e14f50e",
   "metadata": {},
   "outputs": [
    {
     "data": {
      "text/plain": [
       "['foo', 'mew', 'boo', 'baz']"
      ]
     },
     "execution_count": 74,
     "metadata": {},
     "output_type": "execute_result"
    }
   ],
   "source": [
    "b_list"
   ]
  },
  {
   "cell_type": "code",
   "execution_count": 75,
   "id": "09c90485",
   "metadata": {},
   "outputs": [],
   "source": [
    "seq1, seq2 = ['foo', 'boo', 'mew'], [1, 3, 7]"
   ]
  },
  {
   "cell_type": "code",
   "execution_count": 77,
   "id": "14b7f0e0",
   "metadata": {},
   "outputs": [
    {
     "data": {
      "text/plain": [
       "[('foo', 1), ('boo', 3), ('mew', 7)]"
      ]
     },
     "execution_count": 77,
     "metadata": {},
     "output_type": "execute_result"
    }
   ],
   "source": [
    "list(zip(seq1, seq2))"
   ]
  },
  {
   "cell_type": "markdown",
   "id": "9343f50d",
   "metadata": {},
   "source": [
    "### Dict"
   ]
  },
  {
   "cell_type": "code",
   "execution_count": 79,
   "id": "1914c97e",
   "metadata": {},
   "outputs": [],
   "source": [
    "keys, values = ['a', 'b', 5, 7], [\"momo\", \"mew\", 55, 9]"
   ]
  },
  {
   "cell_type": "code",
   "execution_count": 80,
   "id": "de7c3381",
   "metadata": {},
   "outputs": [],
   "source": [
    "mapping = {}\n",
    "for key, value in zip(keys, values):\n",
    "    mapping[key] = value\n"
   ]
  },
  {
   "cell_type": "code",
   "execution_count": 81,
   "id": "4b940b21",
   "metadata": {},
   "outputs": [
    {
     "data": {
      "text/plain": [
       "{'a': 'momo', 'b': 'mew', 5: 55, 7: 9}"
      ]
     },
     "execution_count": 81,
     "metadata": {},
     "output_type": "execute_result"
    }
   ],
   "source": [
    "mapping"
   ]
  },
  {
   "cell_type": "code",
   "execution_count": 100,
   "id": "296980fb",
   "metadata": {},
   "outputs": [],
   "source": [
    "words = ['apple', 'atom', 'bat', 'buzz', 'car']\n",
    "by_letter = {}"
   ]
  },
  {
   "cell_type": "code",
   "execution_count": 101,
   "id": "eb4f7a5f",
   "metadata": {},
   "outputs": [],
   "source": [
    "for word in words:\n",
    "    letter = word[0]\n",
    "    if letter not in by_letter:\n",
    "        by_letter[letter] = [word]\n",
    "    else:\n",
    "        by_letter[letter].append(word)"
   ]
  },
  {
   "cell_type": "code",
   "execution_count": 102,
   "id": "b26b2f1c",
   "metadata": {},
   "outputs": [
    {
     "data": {
      "text/plain": [
       "{'a': ['apple', 'atom'], 'b': ['bat', 'buzz'], 'c': ['car']}"
      ]
     },
     "execution_count": 102,
     "metadata": {},
     "output_type": "execute_result"
    }
   ],
   "source": [
    "by_letter"
   ]
  },
  {
   "cell_type": "markdown",
   "id": "1f8ace93",
   "metadata": {},
   "source": [
    "### List, Set, Dict Comprehensions"
   ]
  },
  {
   "cell_type": "code",
   "execution_count": 105,
   "id": "273300a0",
   "metadata": {},
   "outputs": [],
   "source": [
    "strings = ['a', 'as', 'bat', 'car', 'dove', 'python']"
   ]
  },
  {
   "cell_type": "code",
   "execution_count": 108,
   "id": "95a98bbd",
   "metadata": {},
   "outputs": [
    {
     "data": {
      "text/plain": [
       "['BAT', 'CAR', 'DOVE', 'PYTHON']"
      ]
     },
     "execution_count": 108,
     "metadata": {},
     "output_type": "execute_result"
    }
   ],
   "source": [
    "[i.upper() for i in strings if len(i) > 2]"
   ]
  },
  {
   "cell_type": "code",
   "execution_count": 109,
   "id": "9478c9dd",
   "metadata": {},
   "outputs": [],
   "source": [
    "all_names = [\n",
    "    ['marina', 'mark', 'stefanie'],\n",
    "    ['abraham', 'monzer', 'michael']\n",
    "]"
   ]
  },
  {
   "cell_type": "code",
   "execution_count": 119,
   "id": "4eb43d3f",
   "metadata": {},
   "outputs": [
    {
     "data": {
      "text/plain": [
       "['marina', 'abraham']"
      ]
     },
     "execution_count": 119,
     "metadata": {},
     "output_type": "execute_result"
    }
   ],
   "source": [
    "[name for row in all_names for name in row if name.count('a') >= 2]"
   ]
  },
  {
   "cell_type": "code",
   "execution_count": null,
   "id": "746163db",
   "metadata": {},
   "outputs": [],
   "source": []
  }
 ],
 "metadata": {
  "kernelspec": {
   "display_name": "Python 3 (ipykernel)",
   "language": "python",
   "name": "python3"
  },
  "language_info": {
   "codemirror_mode": {
    "name": "ipython",
    "version": 3
   },
   "file_extension": ".py",
   "mimetype": "text/x-python",
   "name": "python",
   "nbconvert_exporter": "python",
   "pygments_lexer": "ipython3",
   "version": "3.8.8"
  }
 },
 "nbformat": 4,
 "nbformat_minor": 5
}
