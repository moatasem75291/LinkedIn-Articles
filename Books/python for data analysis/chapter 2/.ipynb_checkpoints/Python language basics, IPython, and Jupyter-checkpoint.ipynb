{
 "cells": [
  {
   "cell_type": "markdown",
   "id": "a110dfff",
   "metadata": {},
   "source": [
    "# 2.2 IPython Basics"
   ]
  },
  {
   "cell_type": "code",
   "execution_count": 11,
   "id": "2818e1a7",
   "metadata": {},
   "outputs": [],
   "source": [
    "import numpy as np\n",
    "Data = {i: np.random.randn() for i in range(7)}"
   ]
  },
  {
   "cell_type": "code",
   "execution_count": 12,
   "id": "5907d3a3",
   "metadata": {},
   "outputs": [
    {
     "data": {
      "text/plain": [
       "{0: -0.99380097578386,\n",
       " 1: -0.03924232290816157,\n",
       " 2: -1.0964166986336212,\n",
       " 3: -0.5770326112386198,\n",
       " 4: 0.41563143653785256,\n",
       " 5: 0.3035108112791012,\n",
       " 6: -0.0793039110134454}"
      ]
     },
     "execution_count": 12,
     "metadata": {},
     "output_type": "execute_result"
    }
   ],
   "source": [
    "Data"
   ]
  },
  {
   "cell_type": "code",
   "execution_count": 19,
   "id": "e09f376e",
   "metadata": {},
   "outputs": [],
   "source": [
    "Data?"
   ]
  },
  {
   "cell_type": "code",
   "execution_count": 20,
   "id": "914d4439",
   "metadata": {},
   "outputs": [],
   "source": [
    "map?"
   ]
  },
  {
   "cell_type": "code",
   "execution_count": 18,
   "id": "a5ef0985",
   "metadata": {},
   "outputs": [],
   "source": [
    "zip?"
   ]
  },
  {
   "cell_type": "code",
   "execution_count": 21,
   "id": "0ca6adee",
   "metadata": {},
   "outputs": [],
   "source": [
    "def add_numbers(a, b):\n",
    "    \"\"\"\n",
    "    Add two numbers\n",
    "    \n",
    "    Returns\n",
    "    --------\n",
    "    the_sum: type of arguments\n",
    "    \"\"\"\n",
    "    return a + b"
   ]
  },
  {
   "cell_type": "code",
   "execution_count": 23,
   "id": "4660fb76",
   "metadata": {},
   "outputs": [],
   "source": [
    "add_numbers??"
   ]
  },
  {
   "cell_type": "code",
   "execution_count": 26,
   "id": "c4d1403d",
   "metadata": {},
   "outputs": [
    {
     "name": "stdout",
     "output_type": "stream",
     "text": [
      "4jjj\n"
     ]
    }
   ],
   "source": [
    "print(add_numbers('4', 'jjj'))"
   ]
  },
  {
   "cell_type": "code",
   "execution_count": 37,
   "id": "2e52455c",
   "metadata": {},
   "outputs": [],
   "source": [
    "np.*and*?"
   ]
  },
  {
   "cell_type": "markdown",
   "id": "f410a0f9",
   "metadata": {},
   "source": [
    "### The %run Command"
   ]
  },
  {
   "cell_type": "code",
   "execution_count": 38,
   "id": "17d08cf9",
   "metadata": {},
   "outputs": [],
   "source": [
    "%run ipython_script_test.py"
   ]
  },
  {
   "cell_type": "code",
   "execution_count": 39,
   "id": "384b827a",
   "metadata": {},
   "outputs": [
    {
     "data": {
      "text/plain": [
       "1.4666666666666666"
      ]
     },
     "execution_count": 39,
     "metadata": {},
     "output_type": "execute_result"
    }
   ],
   "source": [
    "result"
   ]
  },
  {
   "cell_type": "code",
   "execution_count": 54,
   "id": "dbeb2b0d",
   "metadata": {},
   "outputs": [],
   "source": [
    "res = f(1, 2, 3)"
   ]
  },
  {
   "cell_type": "code",
   "execution_count": 55,
   "id": "7ff47e58",
   "metadata": {},
   "outputs": [
    {
     "data": {
      "text/plain": [
       "1.0"
      ]
     },
     "execution_count": 55,
     "metadata": {},
     "output_type": "execute_result"
    }
   ],
   "source": [
    "res"
   ]
  },
  {
   "cell_type": "markdown",
   "id": "5f89e2d4",
   "metadata": {},
   "source": [
    "### The %load Command"
   ]
  },
  {
   "cell_type": "code",
   "execution_count": 57,
   "id": "83f2824c",
   "metadata": {},
   "outputs": [],
   "source": [
    "# %load ipython_script_test.py\n",
    "def f(x, y, z):\n",
    "    return (x + y) / z\n",
    "a, b, c = 5, 6, 7\n",
    "result = f(a, b, c)\n"
   ]
  },
  {
   "cell_type": "code",
   "execution_count": null,
   "id": "b56b0502",
   "metadata": {},
   "outputs": [],
   "source": []
  }
 ],
 "metadata": {
  "kernelspec": {
   "display_name": "Python 3 (ipykernel)",
   "language": "python",
   "name": "python3"
  },
  "language_info": {
   "codemirror_mode": {
    "name": "ipython",
    "version": 3
   },
   "file_extension": ".py",
   "mimetype": "text/x-python",
   "name": "python",
   "nbconvert_exporter": "python",
   "pygments_lexer": "ipython3",
   "version": "3.8.8"
  }
 },
 "nbformat": 4,
 "nbformat_minor": 5
}
