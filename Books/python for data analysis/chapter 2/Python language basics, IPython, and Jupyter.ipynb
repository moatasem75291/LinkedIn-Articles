{
 "cells": [
  {
   "cell_type": "markdown",
   "id": "3dc0d8e5",
   "metadata": {},
   "source": [
    "# 2.2 IPython Basics"
   ]
  },
  {
   "cell_type": "code",
   "execution_count": 11,
   "id": "b852aa3b",
   "metadata": {},
   "outputs": [],
   "source": [
    "import numpy as np\n",
    "Data = {i: np.random.randn() for i in range(7)}"
   ]
  },
  {
   "cell_type": "code",
   "execution_count": 12,
   "id": "2ab0d3c9",
   "metadata": {},
   "outputs": [
    {
     "data": {
      "text/plain": [
       "{0: -0.99380097578386,\n",
       " 1: -0.03924232290816157,\n",
       " 2: -1.0964166986336212,\n",
       " 3: -0.5770326112386198,\n",
       " 4: 0.41563143653785256,\n",
       " 5: 0.3035108112791012,\n",
       " 6: -0.0793039110134454}"
      ]
     },
     "execution_count": 12,
     "metadata": {},
     "output_type": "execute_result"
    }
   ],
   "source": [
    "Data"
   ]
  },
  {
   "cell_type": "code",
   "execution_count": 19,
   "id": "ceec9298",
   "metadata": {},
   "outputs": [],
   "source": [
    "Data?"
   ]
  },
  {
   "cell_type": "code",
   "execution_count": 20,
   "id": "6f235451",
   "metadata": {},
   "outputs": [],
   "source": [
    "map?"
   ]
  },
  {
   "cell_type": "code",
   "execution_count": 18,
   "id": "a13755e3",
   "metadata": {},
   "outputs": [],
   "source": [
    "zip?"
   ]
  },
  {
   "cell_type": "code",
   "execution_count": 21,
   "id": "c65b08a3",
   "metadata": {},
   "outputs": [],
   "source": [
    "def add_numbers(a, b):\n",
    "    \"\"\"\n",
    "    Add two numbers\n",
    "    \n",
    "    Returns\n",
    "    --------\n",
    "    the_sum: type of arguments\n",
    "    \"\"\"\n",
    "    return a + b"
   ]
  },
  {
   "cell_type": "code",
   "execution_count": 23,
   "id": "3439d485",
   "metadata": {},
   "outputs": [],
   "source": [
    "add_numbers??"
   ]
  },
  {
   "cell_type": "code",
   "execution_count": 26,
   "id": "0055fabe",
   "metadata": {},
   "outputs": [
    {
     "name": "stdout",
     "output_type": "stream",
     "text": [
      "4jjj\n"
     ]
    }
   ],
   "source": [
    "print(add_numbers('4', 'jjj'))"
   ]
  },
  {
   "cell_type": "code",
   "execution_count": 37,
   "id": "ac281867",
   "metadata": {},
   "outputs": [],
   "source": [
    "np.*and*?"
   ]
  },
  {
   "cell_type": "markdown",
   "id": "bf04b5bb",
   "metadata": {},
   "source": [
    "### The %run Command"
   ]
  },
  {
   "cell_type": "code",
   "execution_count": 60,
   "id": "be67c927",
   "metadata": {},
   "outputs": [],
   "source": [
    "%run ipython_script_test.py"
   ]
  },
  {
   "cell_type": "code",
   "execution_count": 61,
   "id": "cf68d1e2",
   "metadata": {},
   "outputs": [
    {
     "data": {
      "text/plain": [
       "1.4666666666666666"
      ]
     },
     "execution_count": 61,
     "metadata": {},
     "output_type": "execute_result"
    }
   ],
   "source": [
    "result"
   ]
  },
  {
   "cell_type": "code",
   "execution_count": 54,
   "id": "e787d994",
   "metadata": {},
   "outputs": [],
   "source": [
    "res = f(1, 2, 3)"
   ]
  },
  {
   "cell_type": "code",
   "execution_count": 63,
   "id": "eb199ba1",
   "metadata": {},
   "outputs": [
    {
     "data": {
      "text/plain": [
       "1.0"
      ]
     },
     "execution_count": 63,
     "metadata": {},
     "output_type": "execute_result"
    }
   ],
   "source": [
    "res"
   ]
  },
  {
   "cell_type": "markdown",
   "id": "8eb394cb",
   "metadata": {},
   "source": [
    "### The %load Command"
   ]
  },
  {
   "cell_type": "code",
   "execution_count": 74,
   "id": "2d2871a1",
   "metadata": {},
   "outputs": [],
   "source": [
    "# %load ipython_script_test.py\n",
    "def f(x, y, z):\n",
    "    return (x + y) / z\n",
    "a, b, c = 5, 6, 7\n",
    "result = f(a, b, c)\n"
   ]
  },
  {
   "cell_type": "markdown",
   "id": "ceb628eb",
   "metadata": {},
   "source": [
    "### Magic Commands"
   ]
  },
  {
   "cell_type": "code",
   "execution_count": 75,
   "id": "3cff9743",
   "metadata": {},
   "outputs": [],
   "source": [
    "a = np.random.randn(100, 100)"
   ]
  },
  {
   "cell_type": "code",
   "execution_count": 94,
   "id": "232a1a50",
   "metadata": {},
   "outputs": [
    {
     "name": "stdout",
     "output_type": "stream",
     "text": [
      "27.1 µs ± 1.37 µs per loop (mean ± std. dev. of 7 runs, 10,000 loops each)\n"
     ]
    }
   ],
   "source": [
    "%timeit  np.dot(a, a)"
   ]
  },
  {
   "cell_type": "code",
   "execution_count": 99,
   "id": "ebf4d02b",
   "metadata": {},
   "outputs": [
    {
     "name": "stdout",
     "output_type": "stream",
     "text": [
      "NOTE: Enter 'c' at the ipdb>  prompt to continue execution.\n",
      "> \u001b[1;32m<string>\u001b[0m(1)\u001b[0;36m<module>\u001b[1;34m()\u001b[0m\n",
      "\n",
      "ipdb> 1\n",
      "1\n",
      "ipdb> 2\n",
      "2\n",
      "ipdb> 3\n",
      "3\n",
      "ipdb> 3\n",
      "3\n",
      "ipdb> 3\n",
      "3\n",
      "ipdb> d\n",
      "*** Newest frame\n",
      "ipdb> f\n",
      "<function f at 0x0000027D5971ED30>\n",
      "ipdb> f(1,2,3)\n",
      "1.0\n",
      "ipdb> result\n",
      "1.5714285714285714\n",
      "ipdb> f(2, 5, 0)\n",
      "*** ZeroDivisionError: division by zero\n",
      "ipdb> f(r, 4.7, 0)\n",
      "*** NameError: name 'r' is not defined\n",
      "ipdb> c\n",
      "\u001b[1;31m---------------------------------------------------------------------------\u001b[0m\n",
      "\u001b[1;31mNameError\u001b[0m                                 Traceback (most recent call last)\n",
      "\u001b[1;31mNameError\u001b[0m: name 'ipython_script_test' is not defined\n"
     ]
    }
   ],
   "source": [
    "%debug ipython_script_test.py"
   ]
  },
  {
   "cell_type": "code",
   "execution_count": 100,
   "id": "26146bd0",
   "metadata": {},
   "outputs": [
    {
     "data": {
      "text/plain": [
       "'C:\\\\Users\\\\MBR\\\\Desktop\\\\LinkedIn-Articles\\\\Books\\\\python for data analysis\\\\chapter 2'"
      ]
     },
     "execution_count": 100,
     "metadata": {},
     "output_type": "execute_result"
    }
   ],
   "source": [
    "%pwd"
   ]
  },
  {
   "cell_type": "code",
   "execution_count": 101,
   "id": "20d954c9",
   "metadata": {},
   "outputs": [],
   "source": [
    "%magic"
   ]
  },
  {
   "cell_type": "markdown",
   "id": "190b3ed2",
   "metadata": {},
   "source": [
    "### Matplotlib Integeration"
   ]
  },
  {
   "cell_type": "code",
   "execution_count": 103,
   "id": "23c9ebec",
   "metadata": {},
   "outputs": [],
   "source": [
    "%matplotlib inline"
   ]
  },
  {
   "cell_type": "code",
   "execution_count": 119,
   "id": "38a95914",
   "metadata": {},
   "outputs": [
    {
     "data": {
      "text/plain": [
       "[<matplotlib.lines.Line2D at 0x27d5e14a250>]"
      ]
     },
     "execution_count": 119,
     "metadata": {},
     "output_type": "execute_result"
    },
    {
     "data": {
      "image/png": "[encoded data removed]",
      "text/plain": [
       "<Figure size 640x480 with 1 Axes>"
      ]
     },
     "metadata": {},
     "output_type": "display_data"
    }
   ],
   "source": [
    "import matplotlib.pyplot as plt\n",
    "plt.plot(np.random.randn(500).cumsum())"
   ]
  },
  {
   "cell_type": "code",
   "execution_count": null,
   "id": "5416fc38",
   "metadata": {},
   "outputs": [],
   "source": []
  }
 ],
 "metadata": {
  "kernelspec": {
   "display_name": "Python 3 (ipykernel)",
   "language": "python",
   "name": "python3"
  },
  "language_info": {
   "codemirror_mode": {
    "name": "ipython",
    "version": 3
   },
   "file_extension": ".py",
   "mimetype": "text/x-python",
   "name": "python",
   "nbconvert_exporter": "python",
   "pygments_lexer": "ipython3",
   "version": "3.8.8"
  }
 },
 "nbformat": 4,
 "nbformat_minor": 5
}
